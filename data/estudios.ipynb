{
 "cells": [
  {
   "cell_type": "code",
   "execution_count": 1,
   "metadata": {},
   "outputs": [
    {
     "data": {
      "text/html": [
       "<div>\n",
       "<style scoped>\n",
       "    .dataframe tbody tr th:only-of-type {\n",
       "        vertical-align: middle;\n",
       "    }\n",
       "\n",
       "    .dataframe tbody tr th {\n",
       "        vertical-align: top;\n",
       "    }\n",
       "\n",
       "    .dataframe thead th {\n",
       "        text-align: right;\n",
       "    }\n",
       "</style>\n",
       "<table border=\"1\" class=\"dataframe\">\n",
       "  <thead>\n",
       "    <tr style=\"text-align: right;\">\n",
       "      <th></th>\n",
       "      <th>estudio</th>\n",
       "      <th>n_exp</th>\n",
       "      <th>media_exp</th>\n",
       "      <th>sd_exp</th>\n",
       "      <th>n_control</th>\n",
       "      <th>media_control</th>\n",
       "      <th>sd_control</th>\n",
       "    </tr>\n",
       "  </thead>\n",
       "  <tbody>\n",
       "    <tr>\n",
       "      <th>0</th>\n",
       "      <td>John Doe et Al.</td>\n",
       "      <td>20</td>\n",
       "      <td>8</td>\n",
       "      <td>3.5</td>\n",
       "      <td>20</td>\n",
       "      <td>10</td>\n",
       "      <td>3.1</td>\n",
       "    </tr>\n",
       "    <tr>\n",
       "      <th>1</th>\n",
       "      <td>Jack Down et Al.</td>\n",
       "      <td>15</td>\n",
       "      <td>9</td>\n",
       "      <td>4.5</td>\n",
       "      <td>15</td>\n",
       "      <td>12</td>\n",
       "      <td>2.5</td>\n",
       "    </tr>\n",
       "    <tr>\n",
       "      <th>2</th>\n",
       "      <td>Jane Dew et Al.</td>\n",
       "      <td>17</td>\n",
       "      <td>7</td>\n",
       "      <td>3.5</td>\n",
       "      <td>17</td>\n",
       "      <td>9</td>\n",
       "      <td>2.7</td>\n",
       "    </tr>\n",
       "    <tr>\n",
       "      <th>3</th>\n",
       "      <td>Joseph Dick et Al.</td>\n",
       "      <td>30</td>\n",
       "      <td>12</td>\n",
       "      <td>2.2</td>\n",
       "      <td>28</td>\n",
       "      <td>15</td>\n",
       "      <td>2.8</td>\n",
       "    </tr>\n",
       "    <tr>\n",
       "      <th>4</th>\n",
       "      <td>Jonas Dash et Al.</td>\n",
       "      <td>32</td>\n",
       "      <td>12</td>\n",
       "      <td>4.5</td>\n",
       "      <td>31</td>\n",
       "      <td>9</td>\n",
       "      <td>3.1</td>\n",
       "    </tr>\n",
       "  </tbody>\n",
       "</table>\n",
       "</div>"
      ],
      "text/plain": [
       "              estudio  n_exp  media_exp  sd_exp  n_control  media_control  \\\n",
       "0  John Doe et Al.        20          8     3.5         20             10   \n",
       "1  Jack Down et Al.       15          9     4.5         15             12   \n",
       "2  Jane Dew et Al.        17          7     3.5         17              9   \n",
       "3  Joseph Dick et Al.     30         12     2.2         28             15   \n",
       "4  Jonas Dash et Al.      32         12     4.5         31              9   \n",
       "\n",
       "   sd_control  \n",
       "0         3.1  \n",
       "1         2.5  \n",
       "2         2.7  \n",
       "3         2.8  \n",
       "4         3.1  "
      ]
     },
     "execution_count": 1,
     "metadata": {},
     "output_type": "execute_result"
    }
   ],
   "source": [
    "import pandas as pd\n",
    "\n",
    "df = pd.read_csv(\"estudios.csv\", sep=\";\")\n",
    "df"
   ]
  },
  {
   "cell_type": "code",
   "execution_count": 3,
   "metadata": {},
   "outputs": [
    {
     "data": {
      "text/plain": [
       "array([-0.60606061, -0.85714286, -0.64516129, -1.20516499,  0.78709677])"
      ]
     },
     "execution_count": 3,
     "metadata": {},
     "output_type": "execute_result"
    }
   ],
   "source": [
    "import numpy as np \n",
    "\n",
    "media_exp = df[\"media_exp\"].values\n",
    "n_exp = df[\"n_exp\"].values\n",
    "sd_exp = df[\"sd_exp\"].values\n",
    "n_control = df[\"n_control\"].values\n",
    "media_control = df[\"media_control\"].values\n",
    "sd_control = df[\"sd_control\"].values\n",
    "\n",
    "sd_pooled = ((n_exp -1)*sd_exp + (n_control -1)*sd_control) / (n_exp + n_control -2)\n",
    "\n",
    "d = (media_exp - media_control)/sd_pooled\n",
    "\n",
    "d"
   ]
  }
 ],
 "metadata": {
  "interpreter": {
   "hash": "729cec96af6f8faa29a7806fb8b22782af67faa28216407143f6e049162076d1"
  },
  "kernelspec": {
   "display_name": "Python 3.8.10 64-bit ('data-XMgZdxYP': venv)",
   "language": "python",
   "name": "python3"
  },
  "language_info": {
   "codemirror_mode": {
    "name": "ipython",
    "version": 3
   },
   "file_extension": ".py",
   "mimetype": "text/x-python",
   "name": "python",
   "nbconvert_exporter": "python",
   "pygments_lexer": "ipython3",
   "version": "3.8.10"
  },
  "orig_nbformat": 4
 },
 "nbformat": 4,
 "nbformat_minor": 2
}
